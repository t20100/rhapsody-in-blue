{
 "cells": [
  {
   "cell_type": "markdown",
   "metadata": {},
   "source": [
    "# **2017 Painting Data, Treatment I**\n",
    "***Objective:* normalization of individual XANES spectra for historical paint samples MH0170_5 and SKA2102_8 gathered with attenuated microbeam and MH0169_1a gathered with un-attenuated microbeam****\n",
    "\n",
    "### Program: \n",
    "[PyMca 5.4.0] (http://pymca.sourceforge.net/)\n",
    "\n",
    "### Input: \n",
    "- raw individual XANES spectra for all samples, type = h5, [dataset31] ()\n",
    "> allfiles_hg94.h5\n",
    "\n",
    "### Steps:\n",
    "- only for the following files (axes = energyM, signals = S-K)\n",
    "    - 'MH0170_5_att' (att = attenuated)\n",
    "        - spectra numbers = 133 to 150\n",
    "    - 'SKA2102_8_att' (att = attenuated)\n",
    "        - spectra numbers = 190 to 222\n",
    "    - 'MH0169_1a'\n",
    "        - spectra numbers = 44, 54 to 58\n",
    "- averaged all XANES spectra for MH0170_5_att\n",
    "- configured normalization based on this average\n",
    "    - unselected 'auto' edge and chose user edge = **2.481714**\n",
    "    - adjusted the pre edge to:\n",
    "        - pre = **constant** \n",
    "        - min = **-0.021400**\n",
    "        - max = **-0.016700**\n",
    "    - adjusted the post edge to:\n",
    "        - post = **constant**\n",
    "        - min = **0.005282**\n",
    "        - max = **0.033481**\n",
    "- reselected all XANES spectra for a given sample and applied normalization\n",
    "- saved all normalized individual spectra per sample as multiscan .dat\n",
    "\n",
    "### Output:\n",
    "- individual normalized XANES spectra, type = .dat, [dataset32] ()\n",
    "> c_2017_MH0170_5_133_150.dat <br> c_2017_SKA2102_8_190_222.dat\n",
    "\n",
    "- individual normalized XANES spectra, type = .dat, [datasetRAD] ()\n",
    "> c_2017_MH0169_1a_044_054to058.dat\n",
    "\n",
    "### Notes:\n",
    "- all XANES spectra were batch-fitted with PyMca to corrected for Pb M-lines contributions in S K-lines by Wout de Nolf of ESRF\n",
    "- samples of interest\n",
    "    - MH0170_5, Mauritshuis, Jan Steen, *The Life of Man*\n",
    "    - SK-A-2102_8, Rijksmuseum, Jan Brueghel II, *Still Life with Flowers in a Glass*\n",
    "- output filename components separated by underscores\n",
    "    - c for constant edge parameters for normalization\n",
    "    - beamtime year\n",
    "    - accession number\n",
    "    - sample number\n",
    "    - first scan number\n",
    "    - last scan number"
   ]
  },
  {
   "cell_type": "code",
   "execution_count": 1,
   "metadata": {},
   "outputs": [],
   "source": [
    "import os"
   ]
  },
  {
   "cell_type": "code",
   "execution_count": 2,
   "metadata": {},
   "outputs": [],
   "source": [
    "##prepare output\n",
    "for i in [32, 'RAD']:\n",
    "    try:\n",
    "        os.mkdir('dataset_'+str(i))\n",
    "    except OSError:\n",
    "        pass"
   ]
  },
  {
   "cell_type": "markdown",
   "metadata": {},
   "source": [
    "### continue to sheet '09_2017paint_Treatment-II...'"
   ]
  }
 ],
 "metadata": {
  "kernelspec": {
   "display_name": "Python 3",
   "language": "python",
   "name": "python3"
  },
  "language_info": {
   "codemirror_mode": {
    "name": "ipython",
    "version": 3
   },
   "file_extension": ".py",
   "mimetype": "text/x-python",
   "name": "python",
   "nbconvert_exporter": "python",
   "pygments_lexer": "ipython3",
   "version": "3.7.3"
  }
 },
 "nbformat": 4,
 "nbformat_minor": 2
}
