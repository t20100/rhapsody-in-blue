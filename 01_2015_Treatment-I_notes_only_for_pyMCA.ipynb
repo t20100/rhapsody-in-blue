{
 "cells": [
  {
   "cell_type": "markdown",
   "metadata": {},
   "source": [
    "# **2015 Data, Treatment I**\n",
    "***Objective:* normalization of each individual XANES spectra from pastello-separated lazurite for across-sample comparisons and averaging of normalized XANES spectra over three spots of analysis per sample**\n",
    "\n",
    "### Program: \n",
    "[PyMca 5.4.0] (http://pymca.sourceforge.net/)\n",
    "\n",
    "### Input: \n",
    "- raw macro XRF mode XANES spectra, type = .dat, [dataset11] ()\n",
    "> 15092501.dat <br> - P-020 = scan #s 123, 129, 135 <br> - P-415 = scan #s 141, 147, 153 <br> - P-600 = scan #s 159, 165, 171 <br> - P-750 = scan #s 179, 185, 191\n",
    "\n",
    "### Steps:\n",
    "- opened data set\n",
    "- plotted spectra from each sample\n",
    "    - x = arr_energyM\n",
    "    - y = arr_absorp3  (where absorp3 = dsp1(S)/iodet)\n",
    "- averaged spectra per sample\n",
    "- configured normalization based on average with the following parameters\n",
    "    - unselected 'auto' edge and chose user edge = **2.481714**\n",
    "    - adjusted the pre edge to:\n",
    "        - pre = **constant** \n",
    "        - min = **-0.021400**\n",
    "        - max = **-0.016700**\n",
    "    - adjusted the post edge to:\n",
    "        - post = **constant**\n",
    "        - min = **0.005282**\n",
    "        - max = **0.033481**\n",
    "- reselected all XANES spectra for a given sample and applied normalization\n",
    "- averaged normalized spectra per sample\n",
    "- saved averaged normalized spectra for each sample as comma-delimited .csv\n",
    "\n",
    "### Output:\n",
    "- averaged normalized spectra, type = .csv, [dataset12] ()\n",
    "> 2015_avg_P020.csv <br> 2015_avg_P415.csv <br> 2015_avg_P600.csv <br> 2015_avg_P750.csv"
   ]
  },
  {
   "cell_type": "code",
   "execution_count": 1,
   "metadata": {},
   "outputs": [],
   "source": [
    "import os"
   ]
  },
  {
   "cell_type": "code",
   "execution_count": 2,
   "metadata": {},
   "outputs": [],
   "source": [
    "##prepare output\n",
    "try:\n",
    "    os.mkdir('dataset_12')\n",
    "except OSError:\n",
    "    pass"
   ]
  },
  {
   "cell_type": "markdown",
   "metadata": {},
   "source": [
    "### end"
   ]
  }
 ],
 "metadata": {
  "kernelspec": {
   "display_name": "Python 3",
   "language": "python",
   "name": "python3"
  },
  "language_info": {
   "codemirror_mode": {
    "name": "ipython",
    "version": 3
   },
   "file_extension": ".py",
   "mimetype": "text/x-python",
   "name": "python",
   "nbconvert_exporter": "python",
   "pygments_lexer": "ipython3",
   "version": "3.7.3"
  }
 },
 "nbformat": 4,
 "nbformat_minor": 2
}
