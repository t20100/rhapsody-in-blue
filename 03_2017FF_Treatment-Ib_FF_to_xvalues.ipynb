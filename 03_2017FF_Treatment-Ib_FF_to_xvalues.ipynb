{
 "cells": [
  {
   "cell_type": "markdown",
   "metadata": {},
   "source": [
    "# **2017 Full-field Data, Treatment I**\n",
    "***Objective:* prepare full-field XANES spectral cubes from heavy-liquid-separted lazurite for across-sample comparisons**\n",
    "\n",
    "## Treatment Ib:\n",
    "***Objective:* capture the energy axis (ie x-values) from an original full-field (h5) file because during normalization of files in PyMca, the energy axis is lost and replaced with indices**\n",
    "\n",
    "### Program: \n",
    "[Jupyter notebook >=5.5, Python >=3.4]\n",
    "\n",
    "### Input: \n",
    "- any raw full-field XANES spectral cube (ie 3D data), type = .h5, [dataset21] ()\n",
    "> 20Vpow_1.h5\n",
    "\n",
    "### Steps:\n",
    "- run script below\n",
    "\n",
    "### Output:\n",
    "- energy values, type = .csv (tab-delimited), [datasetx] ()\n",
    "> H020_energy_1.csv\n",
    "\n",
    "### Notes:\n",
    "- all comments are made with '##' \n",
    "- aspects that can be changed depending on the sample, etc. are with '#'"
   ]
  },
  {
   "cell_type": "code",
   "execution_count": 1,
   "metadata": {},
   "outputs": [],
   "source": [
    "import tables\n",
    "import numpy as np\n",
    "import os"
   ]
  },
  {
   "cell_type": "markdown",
   "metadata": {},
   "source": [
    "Read energies:"
   ]
  },
  {
   "cell_type": "code",
   "execution_count": 3,
   "metadata": {},
   "outputs": [
    {
     "name": "stdout",
     "output_type": "stream",
     "text": [
      "Data dimensions: Energies (140) x spatial_1 (1720) x spatial_2 (1670)\n"
     ]
    }
   ],
   "source": [
    "filename = os.path.join('dataset_21', '20Vpow_1.h5')  ##for room temperature (ie 20 C) sample\n",
    "h5 = tables.open_file(filename)\n",
    "energy = h5.root.Aligned.energy[:]\n",
    "print('Data dimensions: Energies ({}) x spatial_1 ({}) x spatial_2 ({})'.format(*h5.root.Aligned.data.shape))"
   ]
  },
  {
   "cell_type": "markdown",
   "metadata": {},
   "source": [
    "Write energies:"
   ]
  },
  {
   "cell_type": "code",
   "execution_count": 4,
   "metadata": {},
   "outputs": [
    {
     "name": "stdout",
     "output_type": "stream",
     "text": [
      "Saved energies in 'dataset_x\\\\H020_energy_1.csv'\n"
     ]
    }
   ],
   "source": [
    "savename = os.path.join('dataset_x', 'H020_energy_1.csv')\n",
    "try:\n",
    "    os.mkdir('dataset_x')\n",
    "except OSError:\n",
    "    pass\n",
    "np.savetxt(savename, energy, delimiter =',')\n",
    "print('Saved energies in ' + repr(savename))"
   ]
  },
  {
   "cell_type": "markdown",
   "metadata": {},
   "source": [
    "### continue to sheet '04_2017FF_Treatment-II...'"
   ]
  }
 ],
 "metadata": {
  "kernelspec": {
   "display_name": "Python 3",
   "language": "python",
   "name": "python3"
  },
  "language_info": {
   "codemirror_mode": {
    "name": "ipython",
    "version": 3
   },
   "file_extension": ".py",
   "mimetype": "text/x-python",
   "name": "python",
   "nbconvert_exporter": "python",
   "pygments_lexer": "ipython3",
   "version": "3.7.3"
  }
 },
 "nbformat": 4,
 "nbformat_minor": 2
}
