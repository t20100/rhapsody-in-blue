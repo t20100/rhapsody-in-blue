{
 "cells": [
  {
   "cell_type": "markdown",
   "metadata": {},
   "source": [
    "# Download ESRF datasets from DOIs\n",
    "\n",
    "\n",
    "This notebook provides a few functions that allows to download datasets from the ESRF ICAT catalogue given their DOIs.\n",
    "\n",
    "See below for an [example](#Example).\n",
    "\n",
    "License: [CC-0](https://creativecommons.org/publicdomain/zero/1.0/)"
   ]
  },
  {
   "cell_type": "code",
   "execution_count": 1,
   "metadata": {},
   "outputs": [],
   "source": [
    "from collections import OrderedDict\n",
    "import json\n",
    "import shutil\n",
    "import urllib.request\n",
    "import urllib.parse\n",
    "import zipfile\n",
    "\n",
    "\n",
    "def get_session_id(user, password):\n",
    "    \"\"\"Returns a session ID to access ESRF ICAT catalogue\n",
    "\n",
    "    :param str user: ICAT user name\n",
    "    :param str password: ICAT password\n",
    "    :rtype: str\n",
    "    \"\"\"\n",
    "    session_id_request = urllib.request.Request(\n",
    "        'https://icatplus.esrf.fr/session',\n",
    "        data=urllib.parse.urlencode({\"plugin\": \"db\", \"username\": user, \"password\": password}).encode('ascii'),\n",
    "        method='POST')\n",
    "\n",
    "    with urllib.request.urlopen(session_id_request) as f:\n",
    "        return json.loads(f.read())[\"sessionId\"]\n",
    "\n",
    "\n",
    "def get_datasets(doi, session_id):\n",
    "    \"\"\"Returns a mapping of dataset name: dataset ID for a given DOI.\n",
    "    \n",
    "    :param str doi: The DOI for which to get the datasets information.\n",
    "    :param str session_id: ESRF ICAT session ID.\n",
    "    :return: Mapping of dataset name (str) to dataset ID (int)\n",
    "    :rtype: dict\n",
    "    \"\"\"\n",
    "    content = OrderedDict({})\n",
    "\n",
    "    url = 'https://icatplus.esrf.fr/doi/' + doi + '/datasets?sessionId=' + session_id\n",
    "\n",
    "    with urllib.request.urlopen(url) as f:\n",
    "        response = f.read()\n",
    "\n",
    "    for dataset in json.loads(response):\n",
    "        content[dataset['name']] = dataset['id']\n",
    "\n",
    "    return content\n",
    "\n",
    "\n",
    "def download_dataset(dataset_id, filename, session_id):\n",
    "    \"\"\"Download a dataset given its ID and save it to a file.\n",
    "\n",
    "    :param int dataset_id: The ID of the dataset to download.\n",
    "    :param str filename: The name of the zip file where to save the dataset.\n",
    "    :param str session_id: ESRF ICAT session ID.\n",
    "    \"\"\"\n",
    "    url = 'https://ids.esrf.fr/ids/getData?sessionId=' + session_id + '&datasetIds=' + str(dataset_id)\n",
    "\n",
    "    with urllib.request.urlopen(url) as response, open(filename, 'wb') as out_file:\n",
    "        shutil.copyfileobj(response, out_file)\n",
    "        \n",
    "\n",
    "def download_datasets(doi, session_id):\n",
    "    \"\"\"Download all datasets associated to a DOI.\n",
    "\n",
    "    :param str doi: The DOI for which to get the datasets.\n",
    "    :param str session_id: ESRF ICAT session ID.\n",
    "    \"\"\"\n",
    "    datasets = get_datasets(doi, session_id).items()\n",
    "    count = 1\n",
    "\n",
    "    for dataset_name, dataset_id in datasets:\n",
    "        file_name = dataset_name + '.zip'\n",
    "        print('Downloading dataset %s (%d/%d)' % (file_name, count, len(datasets)))\n",
    "        download_dataset(dataset_id, file_name, session_id)\n",
    "        count += 1\n",
    "\n",
    "        \n",
    "def unzip(filename):\n",
    "    \"\"\"Unzip a file in the current working directory.\n",
    "\n",
    "    :param str filename: zip file to extract.\n",
    "    \"\"\"\n",
    "    with zipfile.ZipFile(filename) as f:\n",
    "        count = 1\n",
    "        names = f.namelist()\n",
    "        for name in names:\n",
    "            print('Extracting %s (%d/%d)' % (name, count, len(names)))\n",
    "            f.extract(name)\n",
    "            count += 1"
   ]
  },
  {
   "cell_type": "markdown",
   "metadata": {},
   "source": [
    "## Example\n",
    "\n",
    "### Get a session ID for ESRF ICAT access\n",
    "\n",
    "Run the following cell and fill-up the form to acquire a session ID to access the data catalogue."
   ]
  },
  {
   "cell_type": "code",
   "execution_count": 2,
   "metadata": {},
   "outputs": [
    {
     "data": {
      "application/vnd.jupyter.widget-view+json": {
       "model_id": "103c15a263074ef980bf6c67bd2f5363",
       "version_major": 2,
       "version_minor": 0
      },
      "text/plain": [
       "VBox(children=(Label(value='Get an ESRF ICAT session ID:'), Text(value='', description='Username:'), Password(…"
      ]
     },
     "metadata": {},
     "output_type": "display_data"
    }
   ],
   "source": [
    "import ipywidgets\n",
    "\n",
    "session_id = None\n",
    "\n",
    "def session_id_form():\n",
    "    user_widget = ipywidgets.Text(description='Username:')\n",
    "    password_widget = ipywidgets.Password(description='Password:')\n",
    "    button_widget = ipywidgets.Button(description='Get session ID')\n",
    "    status_widget = ipywidgets.Label()\n",
    "    \n",
    "    def on_button_clicked(button):\n",
    "        global session_id\n",
    "        session_id = None\n",
    "        try:\n",
    "            session_id = get_session_id(user_widget.value, password_widget.value)\n",
    "        except:\n",
    "            status_widget.value = 'Error while getting session ID'\n",
    "        else:\n",
    "            status_widget.value = 'Successfully acquired a session ID'\n",
    "\n",
    "    button_widget.on_click(on_button_clicked)\n",
    "    return ipywidgets.VBox(\n",
    "        [ipywidgets.Label(value='Get an ESRF ICAT session ID:'),\n",
    "         user_widget, password_widget, button_widget, status_widget])\n",
    "\n",
    "session_id_form()"
   ]
  },
  {
   "cell_type": "markdown",
   "metadata": {},
   "source": [
    "### Retrieve information from all dataset associated to a DOI\n",
    "\n",
    "`get_datasets(doi, session_id)` returns a mapping of dataset name to dataset ID:"
   ]
  },
  {
   "cell_type": "code",
   "execution_count": 8,
   "metadata": {},
   "outputs": [
    {
     "data": {
      "text/plain": [
       "OrderedDict([('dataset_10', 186930019),\n",
       "             ('dataset_11', 186930090),\n",
       "             ('dataset_12', 186930107),\n",
       "             ('dataset_20', 186930127),\n",
       "             ('dataset_21', 186932665),\n",
       "             ('dataset_22', 186932677),\n",
       "             ('dataset_23', 186932689),\n",
       "             ('dataset_24', 186932703),\n",
       "             ('dataset_25', 186932727),\n",
       "             ('dataset_26', 186932743),\n",
       "             ('dataset_27', 186932754),\n",
       "             ('dataset_28', 186932765),\n",
       "             ('dataset_29', 186932823),\n",
       "             ('dataset_x', 186932921),\n",
       "             ('dataset_30', 186932928),\n",
       "             ('dataset_31', 186933048),\n",
       "             ('dataset_32', 186933055),\n",
       "             ('dataset_33', 186933063),\n",
       "             ('dataset_RAD', 186933094),\n",
       "             ('dataset_40', 186933105),\n",
       "             ('dataset_41', 186933443),\n",
       "             ('dataset_42', 186933450),\n",
       "             ('dataset_43', 186933459)])"
      ]
     },
     "execution_count": 8,
     "metadata": {},
     "output_type": "execute_result"
    }
   ],
   "source": [
    "datasets = get_datasets(doi='10.15151/ESRF-DC-186933507', session_id=session_id)\n",
    "datasets"
   ]
  },
  {
   "cell_type": "markdown",
   "metadata": {},
   "source": [
    "### Download a dataset\n",
    "\n",
    "`download_dataset(dataset_id, filename, session_id)` downloads all files associated to a dataset as a single zip file:"
   ]
  },
  {
   "cell_type": "code",
   "execution_count": 9,
   "metadata": {},
   "outputs": [],
   "source": [
    "download_dataset(datasets['dataset_11'], 'dataset_11.zip', session_id=session_id)"
   ]
  },
  {
   "cell_type": "markdown",
   "metadata": {},
   "source": [
    "### Unzip the downloaded dataset"
   ]
  },
  {
   "cell_type": "code",
   "execution_count": 10,
   "metadata": {},
   "outputs": [
    {
     "name": "stdout",
     "output_type": "stream",
     "text": [
      "Extracting HG-62/dataset_11/15092501.dat (1/1)\n"
     ]
    }
   ],
   "source": [
    "unzip('dataset_11.zip')"
   ]
  },
  {
   "cell_type": "code",
   "execution_count": null,
   "metadata": {},
   "outputs": [],
   "source": []
  }
 ],
 "metadata": {
  "kernelspec": {
   "display_name": "Python 3",
   "language": "python",
   "name": "python3"
  },
  "language_info": {
   "codemirror_mode": {
    "name": "ipython",
    "version": 3
   },
   "file_extension": ".py",
   "mimetype": "text/x-python",
   "name": "python",
   "nbconvert_exporter": "python",
   "pygments_lexer": "ipython3",
   "version": "3.7.3"
  }
 },
 "nbformat": 4,
 "nbformat_minor": 2
}
