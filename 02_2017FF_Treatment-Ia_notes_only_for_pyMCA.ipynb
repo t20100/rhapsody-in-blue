{
 "cells": [
  {
   "cell_type": "markdown",
   "metadata": {},
   "source": [
    "# **2017 Full-field Data, Treatment I**\n",
    "***Objective:* prepare full-field XANES spectral cubes from heavy-liquid-separted lazurite for across-sample comparisons**\n",
    "\n",
    "## Treatment Ia:\n",
    "***Objective:* normalization of full-field XANES spectra for each sample**\n",
    "\n",
    "### Program: \n",
    "[PyMca 5.4.0] (http://pymca.sourceforge.net/)\n",
    "\n",
    "### Input: \n",
    "- raw full-field XANES spectral cubes (ie 3D data), type = .h5, [dataset21] ()\n",
    "> 20Vpow_1.h5 <br> 415pow_1.hf <br> 600Vpow_1.h5 <br> 750Vpow_1.h5 <br> 20VoilL4.h5 <br> 750VL4.h5\n",
    "\n",
    "### Steps:\n",
    "- imported .h5 files via 'ROI imaging'\n",
    "- clicked 'orange dot' to adjust aspect ratio (left window)\n",
    "- clicked 'mona lisa' to flip to proper orientation (left window)\n",
    "- clicked 'Ix/N' so averages over selected pixels-of-interest will be taken\n",
    "- selected a region over particles (right window) and clicked 'replace MCA' to see average spectrum of this selection\n",
    "- normalized (left menu, 'cogs') based on this choice via 'XAS stack normalization'\n",
    "    - unselected 'auto' edge and chose user edge = **2.481496**\n",
    "    - adjusted the pre edge to:\n",
    "        - pre = **linear** \n",
    "        - min = **-0.021426**\n",
    "        - max = **-0.015106**\n",
    "    - adjusted the post edge to:\n",
    "        - post = **linear**\n",
    "        - min = **0.030286**\n",
    "        - max = **0.168504**\n",
    "     - printscreened windows that showed the selection on the image (over which normalization settings were chosen) and the corresponding normalization lines on the spectrum\n",
    "     - pasted into a .ppt file and saved as [2017_Treatment1.pdf] ()\n",
    "     - clicked ok to accept normalization settings\n",
    "- saved normalized result as 'zoomed stack region as HDF5/data', [dataset22]\n",
    "\n",
    "### Output:\n",
    "- normalized full-field XANES spectral cubes, type = .hdf5, [dataset22] ()\n",
    "> H020_norm.hdf <br> H415_norm.hdf <br> H600_norm.hdf <br> H750_norm.hdf <br> H020oilL4_norm.hdf <br> H750oilL4_norm.hdf"
   ]
  },
  {
   "cell_type": "code",
   "execution_count": 1,
   "metadata": {},
   "outputs": [],
   "source": [
    "import os"
   ]
  },
  {
   "cell_type": "code",
   "execution_count": 2,
   "metadata": {},
   "outputs": [],
   "source": [
    "##prepare output\n",
    "try:\n",
    "    os.mkdir('dataset_22')\n",
    "except OSError:\n",
    "    pass"
   ]
  },
  {
   "cell_type": "markdown",
   "metadata": {},
   "source": [
    "### continue to sheet '03_2017FF_Treatment-Ib...'"
   ]
  }
 ],
 "metadata": {
  "kernelspec": {
   "display_name": "Python 3",
   "language": "python",
   "name": "python3"
  },
  "language_info": {
   "codemirror_mode": {
    "name": "ipython",
    "version": 3
   },
   "file_extension": ".py",
   "mimetype": "text/x-python",
   "name": "python",
   "nbconvert_exporter": "python",
   "pygments_lexer": "ipython3",
   "version": "3.7.3"
  }
 },
 "nbformat": 4,
 "nbformat_minor": 2
}
