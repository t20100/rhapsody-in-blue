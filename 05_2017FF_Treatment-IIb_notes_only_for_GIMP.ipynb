{
 "cells": [
  {
   "cell_type": "markdown",
   "metadata": {},
   "source": [
    "# **2017 Full-field Data, Treatment II**\n",
    "***Objective:* produce a mask that will allow working with the lazurite particles only while ignoring contributions from the background**\n",
    "\n",
    "## Treatment IIb:\n",
    "***Objective:* produce a mask to include only areas with lazurite particles to facilitate full-field XANES data workup and handling**\n",
    "\n",
    "### Program: \n",
    "[GIMP 2.10.8] (https://www.gimp.org/)\n",
    "\n",
    "### Input: \n",
    "- mean images, type = .png [dataset_23] ()\n",
    "> mean_value_H020_norm_date.png <br> \n",
    "mean_value_H415_norm_date.png <br>\n",
    "mean_value_600Vpow_1_date.png <br> \n",
    "mean_value_H750_norm_date.png <br> \n",
    "mean_value_H020oilL4_norm_date.png <br> \n",
    "mean_value_H750oilL4_norm_date.png\n",
    "\n",
    "### Steps:\n",
    "- 'file' --> 'open' --> 'image' (from dataset_23)\n",
    "    - need to have an image with RGBA, so that when deleting the background it gets replaced with transparent pixels and not black pixels\n",
    "        - if an image only has 3 channels (RGB), must add an 'A' channel via 'layer' --> 'transparency' --> 'add alpha channel'\n",
    "- selected areas that were not particles and deleted them (ie made them transparent)\n",
    "    - did using the 'magic wand', 'select by color', and/or eraser shapes to manually erase\n",
    "    - took care to delete particles that overlapped the tape which held the sample in place\n",
    "    - also deleted all pixels at the edges of images with box selections\n",
    "- 'file' --> 'export as' --> '.png(compression 5)' (to retain pixel-by-pixel size)\n",
    "\n",
    "### Output:\n",
    "- mask images, type = .png [dataset_24] ()\n",
    "> mask_mean_value_H020_norm_date.png <br> \n",
    "mask_mean_value_H415_norm_date.png <br> \n",
    "mask_mean_value_600Vpow_1_date.png <br> \n",
    "mask_mean_value_H750_norm_date.png <br> \n",
    "mask_mean_value_H020oilL4_norm_date.png <br> \n",
    "mask_mean_value_H750oilL4_norm_date.png"
   ]
  },
  {
   "cell_type": "code",
   "execution_count": 1,
   "metadata": {},
   "outputs": [],
   "source": [
    "import os"
   ]
  },
  {
   "cell_type": "code",
   "execution_count": 2,
   "metadata": {},
   "outputs": [],
   "source": [
    "##prepare output\n",
    "try:\n",
    "    os.mkdir('dataset_24')\n",
    "except OSError:\n",
    "    pass"
   ]
  },
  {
   "cell_type": "markdown",
   "metadata": {},
   "source": [
    "### continue to sheet '06_2017FF_Treatment-III...'"
   ]
  }
 ],
 "metadata": {
  "kernelspec": {
   "display_name": "Python 3",
   "language": "python",
   "name": "python3"
  },
  "language_info": {
   "codemirror_mode": {
    "name": "ipython",
    "version": 3
   },
   "file_extension": ".py",
   "mimetype": "text/x-python",
   "name": "python",
   "nbconvert_exporter": "python",
   "pygments_lexer": "ipython3",
   "version": "3.7.3"
  }
 },
 "nbformat": 4,
 "nbformat_minor": 2
}
