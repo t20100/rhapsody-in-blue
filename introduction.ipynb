{
 "cells": [
  {
   "cell_type": "markdown",
   "metadata": {},
   "source": [
    "# Sulfur K-edge Micro- and Full-field XANES Identifies Marker for Preparation Method of Ultramarine Pigment from Lapis Lazuli in Historical Paints\n",
    "\n",
    "Ultramarine blue pigment from lapis lazuli is one of the most valued natural artist’s pigments used throughout history for its brilliant hue.\n",
    "Historical recipes describe various pigment preparation methods, however, little is understood about why such treatments were performed or how to distinguish them a posteriori on historical paintings.\n",
    "One such historically relevant treatment is heating of the lapis lazuli rock prior to extracting lazurite.\n",
    "X-ray absorption near-edge structure spectroscopy (XANES) at the sulfur K-edge in microbeam and full-field modes (analyzed with non-negative matrix factorization, NMF) is employed to monitor the changes in the sulfur species within lazurite following treatments.\n",
    "Sulfur signatures in lazurite show dependence on the heat-treatment of lapis lazuli rock from which it is derived.\n",
    "\n",
    "In particular, peaks at 2469.0 and 2471.2 eV, attributed to contributions from the trisulfur radical (S3•⁃), which is responsible for the blue color of lazurite, increase in relative intensity with heat of treatment ≥ 600 °C, paralleled by an intensified blue hue.\n",
    "The peak at 2472.5 eV (presumed as S8), on the other hand, decreases in relative intensity.\n",
    "The sulfur signature following heat-treatment is not only unique but also retained following accelerated aging of each pigment mixed as a paint with linseed oil.\n",
    "Further, XANES spectra using an attenuated focused microbeam were gathered on lazurite particles from five historical paint samples.\n",
    "In each, profiles matching that of pigment derived from heat-treated rock were identified, providing a marker for artists’ pigments that had been extracted from heat-treated lapis lazuli.\n",
    "\n",
    "## Data analysis notebooks\n",
    "\n",
    "Provided by the author here: https://github.com/alessaan/rhapsody-in-blue\n",
    "\n",
    "\n",
    "## Data\n",
    "\n",
    "*Gambardella A., Cotte M., De nolf W., Schnetz K., Erdmann R., Van elsas R., Gonzalez V., Wallert A., Eveno M., Keune K. (2019)*. Sulfur K-edge Micro- and Full-field XANES Identifies Marker for Preparation Method of Ultramarine Pigment from Lapis Lazuli in Historical Paints. European Synchrotron Radiation Facility (ESRF). [doi:10.15151/ESRF-DC-186933507](https://data.datacite.org/10.15151/ESRF-DC-186933507)"
   ]
  },
  {
   "cell_type": "markdown",
   "metadata": {},
   "source": [
    "## How to use this environment\n",
    "\n",
    "In order to reprocess the data, you first need to download the data with e.g., the [notebook to download publicly available datasets from ESRF](download_ESRF_datasets.ipynb).\n",
    "\n",
    "Once the required datasets are available, you can run the [data analysis notebooks](./).\n",
    "You have to change the path to access the datasets as they are stored in a different location as the one expected from the original notebooks.\n",
    "\n",
    "Some notebooks describes the steps needed to reproduce the analysis with [pymca](http://pymca.sourceforge.net/) GUI.\n",
    "In this case, from the **New** menu of jupyter, open a **desktop** tab and from there, open a terminal and run **pymca** from it.\n",
    "You should then be able to reproduce the analysis.\n",
    "\n",
    "### Resources\n",
    "\n",
    "* Information on the different datasets in the [README](README.md)\n",
    "* [List of data analysis notebooks](./)\n",
    "* [Notebook to download datasets](download_ESRF_datasets.ipynb)"
   ]
  }
 ],
 "metadata": {
  "kernelspec": {
   "display_name": "Python 3",
   "language": "python",
   "name": "python3"
  },
  "language_info": {
   "codemirror_mode": {
    "name": "ipython",
    "version": 3
   },
   "file_extension": ".py",
   "mimetype": "text/x-python",
   "name": "python",
   "nbconvert_exporter": "python",
   "pygments_lexer": "ipython3",
   "version": "3.7.3"
  }
 },
 "nbformat": 4,
 "nbformat_minor": 2
}
