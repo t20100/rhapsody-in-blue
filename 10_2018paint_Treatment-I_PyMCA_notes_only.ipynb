{
 "cells": [
  {
   "cell_type": "markdown",
   "metadata": {},
   "source": [
    "# **2018 Painting Data, Treatment I**\n",
    "***Objective:* normalization of individual XANES spectra for historical paint samples MH0264x07b, S18500, and S18506 gathered with attenuated microbeam**\n",
    "\n",
    "### Program: \n",
    "[PyMca 5.4.0] (http://pymca.sourceforge.net/)\n",
    "\n",
    "### Input: \n",
    "- raw individual spectra for all samples, type = h5, [dataset41] ()\n",
    "> allfiles_hg139_2.h5\n",
    "\n",
    "### Steps:\n",
    "- only for the following files (axes = energyM, signals = S-K)\n",
    "    - 'MH0264X07b_att'\n",
    "        - spectra numbers = 003 to 060, (note 008 has no signal recorded)\n",
    "    - 'S18500_att'\n",
    "        - spectra numbers = 002 to 051\n",
    "    - 'S18506_att'\n",
    "        - spectra numbers = 002 to 059\n",
    "- averaged all XANES spectra for MH0264X07b (not including spectrum 008)\n",
    "- configured normalization based on this average\n",
    "    - unselected 'auto' edge and chose user edge = **2.481714**\n",
    "    - adjusted the pre edge to:\n",
    "        - pre = **constant** \n",
    "        - min = **-0.021400**\n",
    "        - max = **-0.016700**\n",
    "    - adjusted the post edge to:\n",
    "        - post = **constant**\n",
    "        - min = **0.005282**\n",
    "        - max = **0.033481**\n",
    "- reselected all XANES spectra for a given sample and applied normalization\n",
    "- saved all normalized individual spectra per sample as multiscan .dat\n",
    "\n",
    "### Output:\n",
    "- individual normalized XANES spectra, type = .dat, [dataset42] ()\n",
    "> c_2018_MH0264X07b_003_060.dat <br> c_2018_S18500_002_051.dat <br> c_2018_S18506_002_059.dat\n",
    "\n",
    "### Notes:\n",
    "- all XANES spectra were batch-fitted with PyMca to corrected for Pb M-lines contributions in S K-lines by Wout de Nolf of ESRF\n",
    "- samples of interest\n",
    "    - MH0264x07b, Mauritshuis, Van der Weyden, *The Lamentation of Christ*\n",
    "    - 18500, Louvre/C2RMF, Johan Maelwael, *Pieta with the Holy Trinity*\n",
    "    - 18506, Louvre/C2RMF, Henri Bellechose, *The Last Communion and Martyrdom of Saint Denis*\n",
    "- output filename components separated by underscores\n",
    "    - c for constant edge parameters for normalization\n",
    "    - beamtime year\n",
    "    - accession/sample number\n",
    "    - first scan number\n",
    "    - last scan number'"
   ]
  },
  {
   "cell_type": "code",
   "execution_count": 1,
   "metadata": {},
   "outputs": [],
   "source": [
    "import os"
   ]
  },
  {
   "cell_type": "code",
   "execution_count": 2,
   "metadata": {},
   "outputs": [],
   "source": [
    "##prepare output\n",
    "try:\n",
    "    os.mkdir('dataset_42')\n",
    "except OSError:\n",
    "    pass"
   ]
  },
  {
   "cell_type": "markdown",
   "metadata": {},
   "source": [
    "### continue to sheet '11_2018paint_Treatment-II...'"
   ]
  }
 ],
 "metadata": {
  "kernelspec": {
   "display_name": "Python 3",
   "language": "python",
   "name": "python3"
  },
  "language_info": {
   "codemirror_mode": {
    "name": "ipython",
    "version": 3
   },
   "file_extension": ".py",
   "mimetype": "text/x-python",
   "name": "python",
   "nbconvert_exporter": "python",
   "pygments_lexer": "ipython3",
   "version": "3.7.3"
  }
 },
 "nbformat": 4,
 "nbformat_minor": 2
}
